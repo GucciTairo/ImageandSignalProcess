{
 "cells": [
  {
   "cell_type": "code",
   "execution_count": null,
   "metadata": {},
   "outputs": [],
   "source": [
    "import cv2\n",
    "import numpy as np\n",
    "import os\n"
   ]
  },
  {
   "cell_type": "code",
   "execution_count": null,
   "metadata": {},
   "outputs": [],
   "source": [
    "# --- Configuration ---\n",
    "main_image_path = 'barbara.jpg'\n",
    "patch_image_path = 'patch.png'\n",
    "output_image_path = 'barbara_with_patch_box.jpg'"
   ]
  },
  {
   "cell_type": "code",
   "execution_count": null,
   "metadata": {},
   "outputs": [],
   "source": [
    "def calculate_euclidean_distance(patch1, patch2):\n",
    "    \"\"\"Calculates the Euclidean distance between two image patches.\"\"\"\n",
    "    # Ensure patches have the same shape\n",
    "    if patch1.shape != patch2.shape:\n",
    "        raise ValueError(\"Patches must have the same dimensions and channels.\")\n",
    "    \n",
    "    # Flatten the patches and calculate distance\n",
    "    # Alternatively, calculate squared distance directly on arrays for efficiency\n",
    "    # dist = np.sqrt(np.sum((patch1.astype(float) - patch2.astype(float))**2))\n",
    "    \n",
    "    # Using squared Euclidean distance for comparison (avoids costly sqrt)\n",
    "    # Convert to float to prevent overflow issues with uint8 subtraction\n",
    "    dist_sq = np.sum((patch1.astype(np.float64) - patch2.astype(np.float64))**2)\n",
    "    return dist_sq"
   ]
  },
  {
   "cell_type": "code",
   "execution_count": null,
   "metadata": {},
   "outputs": [],
   "source": [
    "print(f\"Loading main image: {main_image_path}\")\n",
    "if not os.path.exists(main_image_path):\n",
    "    print(f\"Error: Main image file not found at {main_image_path}\")\n",
    "    exit()\n",
    "main_img = cv2.imread(main_image_path)\n",
    "if main_img is None:\n",
    "    print(f\"Error: Could not load main image {main_image_path}\")\n",
    "    exit()\n",
    "\n",
    "print(f\"Loading patch image: {patch_image_path}\")\n",
    "if not os.path.exists(patch_image_path):\n",
    "    print(f\"Error: Patch image file not found at {patch_image_path}\")\n",
    "    exit()\n",
    "patch_img = cv2.imread(patch_image_path)\n",
    "if patch_img is None:\n",
    "    print(f\"Error: Could not load patch image {patch_image_path}\")\n",
    "    exit()"
   ]
  },
  {
   "cell_type": "code",
   "execution_count": null,
   "metadata": {},
   "outputs": [],
   "source": [
    "main_h, main_w = main_img.shape[:2]\n",
    "patch_h, patch_w = patch_img.shape[:2]\n",
    "\n",
    "print(f\"Main image dimensions (HxW): {main_h} x {main_w}\")\n",
    "print(f\"Patch image dimensions (HxW): {patch_h} x {patch_w}\")\n",
    "\n",
    "# Check if patch is larger than the main image\n",
    "if patch_h > main_h or patch_w > main_w:\n",
    "    print(\"Error: Patch image is larger than the main image.\")\n",
    "    exit()"
   ]
  },
  {
   "cell_type": "code",
   "execution_count": null,
   "metadata": {},
   "outputs": [],
   "source": [
    "min_distance = np.inf\n",
    "best_match_coords = (0, 0) # (y, x) of top-left corner\n",
    "\n",
    "print(\"Searching for the best match using Euclidean distance...\")\n",
    "# Iterate through all possible top-left corners (y, x) for the patch\n",
    "for y in range(main_h - patch_h + 1):\n",
    "    for x in range(main_w - patch_w + 1):\n",
    "        # Extract the current window/candidate patch from the main image\n",
    "        candidate_patch = main_img[y : y + patch_h, x : x + patch_w]\n",
    "        \n",
    "        # Calculate the distance (using squared Euclidean for efficiency)\n",
    "        distance = calculate_euclidean_distance(patch_img, candidate_patch)\n",
    "        \n",
    "        # Update if this is a better match\n",
    "        if distance < min_distance:\n",
    "            min_distance = distance\n",
    "            best_match_coords = (y, x) # Store NumPy-style coordinates (row, col)"
   ]
  },
  {
   "cell_type": "code",
   "execution_count": null,
   "metadata": {},
   "outputs": [],
   "source": [
    "best_y, best_x = best_match_coords\n",
    "top_left = (best_x, best_y)         # OpenCV uses (x, y) for drawing\n",
    "bottom_right = (best_x + patch_w, best_y + patch_h)\n",
    "\n",
    "print(f\"Best match found!\")\n",
    "print(f\" -> Minimum Squared Euclidean Distance: {min_distance:.2f}\")\n",
    "print(f\" -> Top-left corner (x, y): {top_left}\")\n",
    "print(f\" -> Bottom-right corner (x, y): {bottom_right}\")"
   ]
  },
  {
   "cell_type": "code",
   "execution_count": null,
   "metadata": {},
   "outputs": [],
   "source": [
    "output_img = main_img.copy()\n",
    "box_color = (0, 0, 255) # BGR format for Red\n",
    "box_thickness = 2\n",
    "cv2.rectangle(output_img, top_left, bottom_right, box_color, box_thickness)\n"
   ]
  },
  {
   "cell_type": "code",
   "execution_count": null,
   "metadata": {},
   "outputs": [],
   "source": [
    "print(f\"Saving result with bounding box to: {output_image_path}\")\n",
    "cv2.imwrite(output_image_path, output_img)\n",
    "\n",
    "print(\"Displaying result. Press any key to close.\")\n",
    "cv2.imshow('Main Image', main_img)\n",
    "cv2.imshow('Patch', patch_img)\n",
    "cv2.imshow('Found Patch Location', output_img)\n",
    "\n",
    "# Wait for a key press and then close windows\n",
    "cv2.waitKey(0)\n",
    "cv2.destroyAllWindows()\n",
    "\n",
    "print(\"Done.\")"
   ]
  }
 ],
 "metadata": {
  "kernelspec": {
   "display_name": "uv",
   "language": "python",
   "name": "uv"
  },
  "language_info": {
   "name": "python",
   "version": "3.11.10"
  }
 },
 "nbformat": 4,
 "nbformat_minor": 2
}
