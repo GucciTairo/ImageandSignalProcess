{
 "cells": [
  {
   "cell_type": "code",
   "execution_count": null,
   "metadata": {},
   "outputs": [],
   "source": [
    "import numpy as np\n",
    "import pandas as pd\n",
    "import matplotlib.pyplot as plt\n",
    "from collections import Counter"
   ]
  },
  {
   "cell_type": "code",
   "execution_count": 2,
   "metadata": {},
   "outputs": [],
   "source": [
    "# Step 1: Define the matrix I\n",
    "I = np.array([\n",
    "    [1, 2, 1, 3, 2, 1],\n",
    "    [4, 4, 3, 2, 4, 0],\n",
    "    [6, 9, 2, 3, 2, 1],\n",
    "    [6, 2, 0, 5, 3, 0],\n",
    "    [3, 4, 0, 5, 1, 5],\n",
    "    [5, 6, 8, 9, 3, 6]\n",
    "])"
   ]
  },
  {
   "cell_type": "code",
   "execution_count": 3,
   "metadata": {},
   "outputs": [],
   "source": [
    "flattened = I.flatten() #Flatten the matrix"
   ]
  },
  {
   "cell_type": "code",
   "execution_count": 4,
   "metadata": {},
   "outputs": [],
   "source": [
    "freq = Counter(flattened) #counter the frequency of each unique value"
   ]
  },
  {
   "cell_type": "code",
   "execution_count": 5,
   "metadata": {},
   "outputs": [],
   "source": [
    "#Create a table for g and h(g)\n",
    "table = pd.DataFrame(list(freq.items()), columns=['g', 'h(g)'])\n",
    "table = table.sort_values(by='g').reset_index(drop=True)"
   ]
  },
  {
   "cell_type": "code",
   "execution_count": 6,
   "metadata": {},
   "outputs": [
    {
     "name": "stdout",
     "output_type": "stream",
     "text": [
      "Table of g and h(g):\n",
      "   g  h(g)\n",
      "0  0     4\n",
      "1  1     5\n",
      "2  2     6\n",
      "3  3     6\n",
      "4  4     4\n",
      "5  5     4\n",
      "6  6     4\n",
      "7  8     1\n",
      "8  9     2\n"
     ]
    }
   ],
   "source": [
    "\n",
    "#Display the table\n",
    "print(\"Table of g and h(g):\")\n",
    "print(table)"
   ]
  }
 ],
 "metadata": {
  "kernelspec": {
   "display_name": ".venv",
   "language": "python",
   "name": "python3"
  },
  "language_info": {
   "codemirror_mode": {
    "name": "ipython",
    "version": 3
   },
   "file_extension": ".py",
   "mimetype": "text/x-python",
   "name": "python",
   "nbconvert_exporter": "python",
   "pygments_lexer": "ipython3",
   "version": "3.11.10"
  }
 },
 "nbformat": 4,
 "nbformat_minor": 2
}
