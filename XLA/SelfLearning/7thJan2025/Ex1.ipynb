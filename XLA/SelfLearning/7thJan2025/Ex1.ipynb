{
 "cells": [
  {
   "cell_type": "code",
   "execution_count": 9,
   "metadata": {},
   "outputs": [],
   "source": [
    "import numpy as np\n",
    "import matplotlib.pyplot as plt\n",
    "from collections import Counter"
   ]
  },
  {
   "cell_type": "code",
   "execution_count": 10,
   "metadata": {},
   "outputs": [],
   "source": [
    "#Define the matrix I\n",
    "I = np.array([\n",
    "    [1, 2, 1, 3, 2, 1],\n",
    "    [4, 4, 3, 2, 4, 0],\n",
    "    [6, 9, 2, 3, 2, 1],\n",
    "    [6, 2, 0, 5, 3, 0],\n",
    "    [3, 4, 0, 5, 1, 5],\n",
    "    [5, 6, 8, 9, 3, 6]\n",
    "])"
   ]
  },
  {
   "cell_type": "code",
   "execution_count": 11,
   "metadata": {},
   "outputs": [],
   "source": [
    "# Step 2: Compute the histogram h(g) of the original matrix I\n",
    "# Flatten the matrix into a 1D array and count occurrences\n",
    "h = Counter(I.flatten())"
   ]
  },
  {
   "cell_type": "code",
   "execution_count": 12,
   "metadata": {},
   "outputs": [],
   "source": [
    "\n",
    "# Step 3: Transform the matrix I using the function f(g) = |g - 4|\n",
    "f = lambda g: abs(g - 4)\n",
    "I_prime = np.vectorize(f)(I)  # Apply the transformation element-wise"
   ]
  },
  {
   "cell_type": "code",
   "execution_count": 13,
   "metadata": {},
   "outputs": [],
   "source": [
    "\n",
    "# Step 4: Compute the histogram h'(g) for the transformed matrix I'\n",
    "h_prime = Counter(I_prime.flatten())"
   ]
  },
  {
   "cell_type": "code",
   "execution_count": 14,
   "metadata": {},
   "outputs": [
    {
     "name": "stdout",
     "output_type": "stream",
     "text": [
      "Original Matrix I:\n",
      "[[1 2 1 3 2 1]\n",
      " [4 4 3 2 4 0]\n",
      " [6 9 2 3 2 1]\n",
      " [6 2 0 5 3 0]\n",
      " [3 4 0 5 1 5]\n",
      " [5 6 8 9 3 6]]\n",
      "\n",
      "Frequency Histogram h(g):\n",
      "Grayscale Value | Frequency\n",
      "---------------------------\n",
      "       0         |    4\n",
      "       1         |    5\n",
      "       2         |    6\n",
      "       3         |    6\n",
      "       4         |    4\n",
      "       5         |    4\n",
      "       6         |    4\n",
      "       8         |    1\n",
      "       9         |    2\n",
      "\n",
      "Transformed Matrix I':\n",
      "[[3 2 3 1 2 3]\n",
      " [0 0 1 2 0 4]\n",
      " [2 5 2 1 2 3]\n",
      " [2 2 4 1 1 4]\n",
      " [1 0 4 1 3 1]\n",
      " [1 2 4 5 1 2]]\n",
      "\n",
      "Frequency Histogram h'(g):\n",
      "Transformed Value | Frequency\n",
      "------------------------------\n",
      "       0          |    4\n",
      "       1          |    10\n",
      "       2          |    10\n",
      "       3          |    5\n",
      "       4          |    5\n",
      "       5          |    2\n"
     ]
    }
   ],
   "source": [
    "\n",
    "# Step 5: Print the results\n",
    "# Print Original Matrix I\n",
    "print(\"Original Matrix I:\")\n",
    "print(I)\n",
    "\n",
    "# Print Frequency Histogram h(g)\n",
    "print(\"\\nFrequency Histogram h(g):\")\n",
    "print(\"Grayscale Value | Frequency\")\n",
    "print(\"---------------------------\")\n",
    "for key in sorted(h.keys()):\n",
    "    print(f\"       {key}         |    {h[key]}\")\n",
    "\n",
    "# Print Transformed Matrix I'\n",
    "print(\"\\nTransformed Matrix I':\")\n",
    "print(I_prime)\n",
    "\n",
    "# Print Frequency Histogram h'(g)\n",
    "print(\"\\nFrequency Histogram h'(g):\")\n",
    "print(\"Transformed Value | Frequency\")\n",
    "print(\"------------------------------\")\n",
    "for key in sorted(h_prime.keys()):\n",
    "    print(f\"       {key}          |    {h_prime[key]}\")"
   ]
  },
  {
   "cell_type": "code",
   "execution_count": 15,
   "metadata": {},
   "outputs": [],
   "source": [
    "# Prepare the data for plotting\n",
    "transformed_values = sorted(h_prime.keys())\n",
    "frequencies = [h_prime[key] for key in transformed_values]"
   ]
  },
  {
   "cell_type": "code",
   "execution_count": 16,
   "metadata": {},
   "outputs": [
    {
     "data": {
      "text/plain": [
       "<BarContainer object of 6 artists>"
      ]
     },
     "execution_count": 16,
     "metadata": {},
     "output_type": "execute_result"
    },
    {
     "data": {
      "image/png": "[encoded data removed]",
      "text/plain": [
       "<Figure size 640x480 with 1 Axes>"
      ]
     },
     "metadata": {},
     "output_type": "display_data"
    }
   ],
   "source": [
    "# Plotting the histogram\n",
    "plt.bar(transformed_values, frequencies, width=0.8, color='blue', alpha=0.7)"
   ]
  },
  {
   "cell_type": "code",
   "execution_count": 17,
   "metadata": {},
   "outputs": [
    {
     "data": {
      "text/plain": [
       "Text(0.5, 1.0, \"Histogram of Transformed Values (h'(g))\")"
      ]
     },
     "execution_count": 17,
     "metadata": {},
     "output_type": "execute_result"
    },
    {
     "data": {
      "image/png": "[encoded data removed]",
      "text/plain": [
       "<Figure size 640x480 with 1 Axes>"
      ]
     },
     "metadata": {},
     "output_type": "display_data"
    }
   ],
   "source": [
    "# Labeling the axes\n",
    "plt.xlabel(\"Transformed Value (g')\")\n",
    "plt.ylabel(\"Frequency\")\n",
    "plt.title(\"Histogram of Transformed Values (h'(g))\")\n"
   ]
  },
  {
   "cell_type": "code",
   "execution_count": 18,
   "metadata": {},
   "outputs": [],
   "source": [
    "# Display the plot\n",
    "plt.show()"
   ]
  }
 ],
 "metadata": {
  "kernelspec": {
   "display_name": ".venv",
   "language": "python",
   "name": "python3"
  },
  "language_info": {
   "codemirror_mode": {
    "name": "ipython",
    "version": 3
   },
   "file_extension": ".py",
   "mimetype": "text/x-python",
   "name": "python",
   "nbconvert_exporter": "python",
   "pygments_lexer": "ipython3",
   "version": "3.11.10"
  }
 },
 "nbformat": 4,
 "nbformat_minor": 2
}
