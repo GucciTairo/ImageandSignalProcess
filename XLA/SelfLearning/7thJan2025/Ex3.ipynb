{
 "cells": [
  {
   "cell_type": "code",
   "execution_count": 586,
   "metadata": {},
   "outputs": [],
   "source": [
    "import numpy as np\n",
    "import pandas as pd\n",
    "import matplotlib.pyplot as plt\n",
    "from collections import Counter"
   ]
  },
  {
   "cell_type": "code",
   "execution_count": 587,
   "metadata": {},
   "outputs": [
    {
     "name": "stdout",
     "output_type": "stream",
     "text": [
      "Total pixels: 36\n"
     ]
    }
   ],
   "source": [
    "#Define the matrix I\n",
    "I = np.array([\n",
    "    [3, 1, 4, 4, 2, 3],\n",
    "    [3, 2, 2, 0, 5, 1],\n",
    "    [1, 2, 3, 1, 0, 1],\n",
    "    [4, 1, 0, 2, 4, 4],\n",
    "    [3, 1, 0, 1, 0, 1],\n",
    "    [2, 1, 3, 2, 1, 3]\n",
    "])\n",
    "# Calculate total pixels\n",
    "total_pixels = I.size\n",
    "\n",
    "# Print the total pixels\n",
    "print(f\"Total pixels: {total_pixels}\")"
   ]
  },
  {
   "cell_type": "code",
   "execution_count": 588,
   "metadata": {},
   "outputs": [],
   "source": [
    "flattened = I.flatten() #Flatten the matrix"
   ]
  },
  {
   "cell_type": "code",
   "execution_count": 589,
   "metadata": {},
   "outputs": [],
   "source": [
    "freq = Counter(flattened) #counter the frequency of each unique value"
   ]
  },
  {
   "cell_type": "code",
   "execution_count": 590,
   "metadata": {},
   "outputs": [],
   "source": [
    "#Create a table for g and h(g)\n",
    "table = pd.DataFrame(list(freq.items()), columns=['g', 'h(g)'])\n",
    "table = table.sort_values(by='g').reset_index(drop=True)"
   ]
  },
  {
   "cell_type": "code",
   "execution_count": 591,
   "metadata": {},
   "outputs": [
    {
     "name": "stdout",
     "output_type": "stream",
     "text": [
      "Table of g and h(g):\n",
      "   g  h(g)\n",
      "0  0     5\n",
      "1  1    11\n",
      "2  2     7\n",
      "3  3     7\n",
      "4  4     5\n",
      "5  5     1\n"
     ]
    }
   ],
   "source": [
    "#Display the table\n",
    "print(\"Table of g and h(g):\")\n",
    "print(table)"
   ]
  },
  {
   "cell_type": "code",
   "execution_count": 592,
   "metadata": {},
   "outputs": [],
   "source": [
    "P_g = {k: f / total_pixels for k, f in freq.items()} #Calculate total probability distribution"
   ]
  },
  {
   "cell_type": "code",
   "execution_count": 593,
   "metadata": {},
   "outputs": [],
   "source": [
    "# Create a DataFrame with g, h(g), and P(g) \n",
    "table = pd.DataFrame({\n",
    "    'g': list(freq.keys()),\n",
    "    'h(g)': list(freq.values()),\n",
    "    'P(g)': list(P_g.values())\n",
    "})"
   ]
  },
  {
   "cell_type": "code",
   "execution_count": 594,
   "metadata": {},
   "outputs": [],
   "source": [
    "# Sort the table by g\n",
    "table = table.sort_values(by='g').reset_index(drop=True)"
   ]
  },
  {
   "cell_type": "code",
   "execution_count": 595,
   "metadata": {},
   "outputs": [
    {
     "name": "stdout",
     "output_type": "stream",
     "text": [
      "   g  h(g)      P(g)\n",
      "0  0     5  0.138889\n",
      "1  1    11  0.305556\n",
      "2  2     7  0.194444\n",
      "3  3     7  0.194444\n",
      "4  4     5  0.138889\n",
      "5  5     1  0.027778\n"
     ]
    }
   ],
   "source": [
    "# Print the table\n",
    "print(table)"
   ]
  },
  {
   "cell_type": "code",
   "execution_count": 596,
   "metadata": {},
   "outputs": [],
   "source": [
    "#Calculate Cumulative distribution function(CDF)\n",
    "CDF = {}\n",
    "cumulative = 0\n",
    "for g in sorted(P_g.keys()):\n",
    "    cumulative += P_g[g]\n",
    "    CDF[g] = cumulative"
   ]
  },
  {
   "cell_type": "code",
   "execution_count": 597,
   "metadata": {},
   "outputs": [],
   "source": [
    "# Add the CDF column\n",
    "table['CDF(g)'] = table['P(g)'].cumsum()"
   ]
  },
  {
   "cell_type": "code",
   "execution_count": 598,
   "metadata": {},
   "outputs": [
    {
     "name": "stdout",
     "output_type": "stream",
     "text": [
      "   g  h(g)      P(g)    CDF(g)\n",
      "0  0     5  0.138889  0.138889\n",
      "1  1    11  0.305556  0.444444\n",
      "2  2     7  0.194444  0.638889\n",
      "3  3     7  0.194444  0.833333\n",
      "4  4     5  0.138889  0.972222\n",
      "5  5     1  0.027778  1.000000\n"
     ]
    }
   ],
   "source": [
    "# Display the updated table\n",
    "print(table)"
   ]
  },
  {
   "cell_type": "code",
   "execution_count": 599,
   "metadata": {},
   "outputs": [],
   "source": [
    "#Map intensities using s_g = round((L-1) * CDF(g))\n",
    "L = 6  # Number of gray levels\n",
    "mapping = {g: round((L - 1) * CDF[g]) for k in CDF.keys()}"
   ]
  },
  {
   "cell_type": "code",
   "execution_count": 600,
   "metadata": {},
   "outputs": [],
   "source": [
    "# Add the s(g) column by applying the mapping\n",
    "table['s(g)'] = table['g'].apply(lambda g: round((L - 1) * CDF[g]))"
   ]
  },
  {
   "cell_type": "code",
   "execution_count": 601,
   "metadata": {},
   "outputs": [
    {
     "name": "stdout",
     "output_type": "stream",
     "text": [
      "   g  h(g)      P(g)    CDF(g)  s(g)\n",
      "0  0     5  0.138889  0.138889     1\n",
      "1  1    11  0.305556  0.444444     2\n",
      "2  2     7  0.194444  0.638889     3\n",
      "3  3     7  0.194444  0.833333     4\n",
      "4  4     5  0.138889  0.972222     5\n",
      "5  5     1  0.027778  1.000000     5\n"
     ]
    }
   ],
   "source": [
    "# Display the updated table\n",
    "print(table)"
   ]
  },
  {
   "cell_type": "code",
   "execution_count": 602,
   "metadata": {},
   "outputs": [
    {
     "name": "stdout",
     "output_type": "stream",
     "text": [
      "Mapping of g, CDF(g), and s(g):\n",
      "   g    CDF(g)  s(g)\n",
      "0  0  0.138889     1\n",
      "1  1  0.444444     2\n",
      "2  2  0.638889     3\n",
      "3  3  0.833333     4\n",
      "4  4  0.972222     5\n",
      "5  5  1.000000     5\n"
     ]
    }
   ],
   "source": [
    "g_to_cdf_sg_mapping = []\n",
    "\n",
    "for g in sorted(P_g.keys()):  # Iterate over all unique g\n",
    "    cdf_value = CDF[g]  # Retrieve the CDF value for this g\n",
    "    s_g = round((L - 1) * cdf_value)  # Calculate the equalized value s(g)\n",
    "    g_to_cdf_sg_mapping.append({'g': g, 'CDF(g)': cdf_value, 's(g)': s_g})\n",
    "    \n",
    "\n",
    "mapping_table = pd.DataFrame(g_to_cdf_sg_mapping)\n",
    "print(\"Mapping of g, CDF(g), and s(g):\")\n",
    "print(mapping_table)"
   ]
  },
  {
   "cell_type": "code",
   "execution_count": 603,
   "metadata": {},
   "outputs": [],
   "source": [
    "#Need to map g and s(g) and update after mapping -> To create I equalized:\n",
    "g_to_sg_mapping = {0: 1, 1: 2, 2: 3, 3: 4, 4: 5, 5: 5}\n",
    "I_equalized = np.array([[g_to_sg_mapping[val] for val in row] for row in I])"
   ]
  },
  {
   "cell_type": "code",
   "execution_count": 604,
   "metadata": {},
   "outputs": [
    {
     "name": "stdout",
     "output_type": "stream",
     "text": [
      "Original Matrix I:\n",
      "[[3 1 4 4 2 3]\n",
      " [3 2 2 0 5 1]\n",
      " [1 2 3 1 0 1]\n",
      " [4 1 0 2 4 4]\n",
      " [3 1 0 1 0 1]\n",
      " [2 1 3 2 1 3]]\n",
      "Equalized Matrix I_equalized:\n",
      "[[4 2 5 5 3 4]\n",
      " [4 3 3 1 5 2]\n",
      " [2 3 4 2 1 2]\n",
      " [5 2 1 3 5 5]\n",
      " [4 2 1 2 1 2]\n",
      " [3 2 4 3 2 4]]\n"
     ]
    }
   ],
   "source": [
    "# Print the original and equalized matrices\n",
    "print(\"Original Matrix I:\")\n",
    "print(I)\n",
    "\n",
    "print(\"Equalized Matrix I_equalized:\")\n",
    "print(I_equalized)"
   ]
  },
  {
   "cell_type": "code",
   "execution_count": 605,
   "metadata": {},
   "outputs": [
    {
     "data": {
      "image/png": "[encoded data removed]",
      "text/plain": [
       "<Figure size 640x480 with 1 Axes>"
      ]
     },
     "metadata": {},
     "output_type": "display_data"
    }
   ],
   "source": [
    "# Histogram for the equalized matrix\n",
    "unique, counts = np.unique(I_equalized, return_counts=True)  # Get unique values and their frequencies\n",
    "\n",
    "# Plot the histogram\n",
    "plt.bar(unique, counts, color='blue', alpha=0.7, edgecolor='black')\n",
    "plt.title(\"Histogram of I Equalized Matrix\")\n",
    "plt.xlabel(\"Intensity Levels (s(g))\")\n",
    "plt.ylabel(\"Frequency\")\n",
    "plt.xticks(unique)  # Ensure x-axis ticks show all intensity levels\n",
    "plt.grid(axis='y', linestyle='--', alpha=0.7)\n",
    "plt.show()"
   ]
  }
 ],
 "metadata": {
  "kernelspec": {
   "display_name": ".venv",
   "language": "python",
   "name": "python3"
  },
  "language_info": {
   "codemirror_mode": {
    "name": "ipython",
    "version": 3
   },
   "file_extension": ".py",
   "mimetype": "text/x-python",
   "name": "python",
   "nbconvert_exporter": "python",
   "pygments_lexer": "ipython3",
   "version": "3.11.10"
  }
 },
 "nbformat": 4,
 "nbformat_minor": 2
}
