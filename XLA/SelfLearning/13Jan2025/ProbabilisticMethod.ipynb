{
 "cells": [
  {
   "cell_type": "code",
   "execution_count": 1,
   "metadata": {},
   "outputs": [],
   "source": [
    "import cv2\n",
    "import numpy as np"
   ]
  },
  {
   "cell_type": "code",
   "execution_count": 2,
   "metadata": {},
   "outputs": [],
   "source": [
    "# Load image in grayscale\n",
    "image = cv2.imread('/home/tairo/CODETHAYTIEN/XLA/ImageUseToTest/DogCat.jpeg', cv2.IMREAD_GRAYSCALE)"
   ]
  },
  {
   "cell_type": "markdown",
   "metadata": {},
   "source": [
    "Flatten the image to a 1D array of pixel intensities.  \n",
    "reshape a multi-dimensional array to a 1D array. Often used to simplify the input to machine learning models.  \n",
    "The computational statistics(like mean,variance, SD)  \n",
    "When working with images, they are typically represented as 2D or 3D arrays:\n",
    "- Grayscale Images: Represented as a 2D array (height x width).\n",
    "- Color Images (RGB): Represented as a 3D array (height x width x 3 channels).  \n",
    "**-> The flatten() method converts these arrays into a 1D array, making it easier to perform operations that require sequential data.**"
   ]
  },
  {
   "cell_type": "code",
   "execution_count": 3,
   "metadata": {},
   "outputs": [],
   "source": [
    "\n",
    "pixels = image.flatten()"
   ]
  },
  {
   "cell_type": "code",
   "execution_count": 4,
   "metadata": {},
   "outputs": [],
   "source": [
    "# Calculate mean, variance, and standard deviation\n",
    "mean = np.mean(pixels)\n",
    "variance = np.var(pixels)\n",
    "std_deviation = np.std(pixels)"
   ]
  },
  {
   "cell_type": "code",
   "execution_count": 5,
   "metadata": {},
   "outputs": [
    {
     "name": "stdout",
     "output_type": "stream",
     "text": [
      "Mean: 121.761421875\n",
      "Variance: 3670.577451572022\n",
      "Standard Deviation: 60.58529071954695\n"
     ]
    }
   ],
   "source": [
    "print(f\"Mean: {mean}\")\n",
    "print(f\"Variance: {variance}\")\n",
    "print(f\"Standard Deviation: {std_deviation}\")"
   ]
  }
 ],
 "metadata": {
  "kernelspec": {
   "display_name": ".venv",
   "language": "python",
   "name": "python3"
  },
  "language_info": {
   "codemirror_mode": {
    "name": "ipython",
    "version": 3
   },
   "file_extension": ".py",
   "mimetype": "text/x-python",
   "name": "python",
   "nbconvert_exporter": "python",
   "pygments_lexer": "ipython3",
   "version": "3.11.10"
  }
 },
 "nbformat": 4,
 "nbformat_minor": 2
}
