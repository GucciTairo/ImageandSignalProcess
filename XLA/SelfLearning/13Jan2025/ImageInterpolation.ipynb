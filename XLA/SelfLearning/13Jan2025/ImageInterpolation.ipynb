{
 "cells": [
  {
   "cell_type": "markdown",
   "metadata": {},
   "source": [
    "Interpolation in images refers to the process of estimating pixel values at non-integer coordinates or for missing data. This is commonly used when resizing images (scaling up or down), rotating, or applying geometric transformations. The aim is to create a smooth, visually appealing transition between pixels without introducing noticeable artifacts."
   ]
  },
  {
   "cell_type": "code",
   "execution_count": 1,
   "metadata": {},
   "outputs": [],
   "source": [
    "import cv2\n",
    "import os"
   ]
  },
  {
   "cell_type": "code",
   "execution_count": 2,
   "metadata": {},
   "outputs": [],
   "source": [
    "def resize_image(input_path, output_folder, upscale_factor=2, downscale_factor=0.5):\n",
    "    # Ensure output folder exists\n",
    "    os.makedirs(output_folder, exist_ok=True)\n",
    "\n",
    "    # Read the image\n",
    "    image = cv2.imread(input_path)\n",
    "\n",
    "    # Check if image was loaded\n",
    "    if image is None:\n",
    "        print(f\"Error: Unable to load the image from path: {input_path}\")\n",
    "        return\n",
    "\n",
    "    # Get the filename without extension\n",
    "    filename = os.path.splitext(os.path.basename(input_path))[0]\n",
    "\n",
    "    # Upscale the image\n",
    "    upscale_path = os.path.join(output_folder, f\"{filename}_increased.jpeg\")\n",
    "    try:\n",
    "        increased_res = cv2.resize(\n",
    "            image, None, fx=upscale_factor, fy=upscale_factor, interpolation=cv2.INTER_CUBIC\n",
    "        )\n",
    "        cv2.imwrite(upscale_path, increased_res)\n",
    "        print(f\"Increased resolution image saved at: {upscale_path}\")\n",
    "    except Exception as e:\n",
    "        print(f\"Error while increasing resolution: {e}\")\n",
    "\n",
    "    # Downscale the image\n",
    "    downscale_path = os.path.join(output_folder, f\"{filename}_decreased.jpeg\")\n",
    "    try:\n",
    "        decreased_res = cv2.resize(\n",
    "            image, None, fx=downscale_factor, fy=downscale_factor, interpolation=cv2.INTER_AREA\n",
    "        )\n",
    "        cv2.imwrite(downscale_path, decreased_res)\n",
    "        print(f\"Decreased resolution image saved at: {downscale_path}\")\n",
    "    except Exception as e:\n",
    "        print(f\"Error while decreasing resolution: {e}\")\n"
   ]
  },
  {
   "cell_type": "code",
   "execution_count": 3,
   "metadata": {},
   "outputs": [
    {
     "name": "stdout",
     "output_type": "stream",
     "text": [
      "Increased resolution image saved at: /home/tairo/CODETHAYTIEN/XLA/ImageUseToTest/ProcessedImages/DogCat_increased.jpeg\n",
      "Decreased resolution image saved at: /home/tairo/CODETHAYTIEN/XLA/ImageUseToTest/ProcessedImages/DogCat_decreased.jpeg\n"
     ]
    }
   ],
   "source": [
    "#Check if the script is being run directly\n",
    "if __name__ == \"__main__\":\n",
    "    # Define paths\n",
    "    input_path = \"/home/tairo/CODETHAYTIEN/XLA/ImageUseToTest/DogCat.jpeg\"\n",
    "    output_folder = \"/home/tairo/CODETHAYTIEN/XLA/ImageUseToTest/ProcessedImages\"\n",
    "\n",
    "    # Call the resize_image function\n",
    "    resize_image(input_path, output_folder)\n"
   ]
  }
 ],
 "metadata": {
  "kernelspec": {
   "display_name": ".venv",
   "language": "python",
   "name": "python3"
  },
  "language_info": {
   "codemirror_mode": {
    "name": "ipython",
    "version": 3
   },
   "file_extension": ".py",
   "mimetype": "text/x-python",
   "name": "python",
   "nbconvert_exporter": "python",
   "pygments_lexer": "ipython3",
   "version": "3.11.10"
  }
 },
 "nbformat": 4,
 "nbformat_minor": 2
}
