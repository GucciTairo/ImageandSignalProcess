{
 "cells": [
  {
   "cell_type": "code",
   "execution_count": 7,
   "metadata": {},
   "outputs": [],
   "source": [
    "import os\n",
    "import cv2"
   ]
  },
  {
   "cell_type": "code",
   "execution_count": 8,
   "metadata": {},
   "outputs": [],
   "source": [
    "# Specific images\n",
    "Images1 = '/home/tairo/CODETHAYTIEN/XLA/ImageUseToTest/ProcessedImages/DogCat_decreased.jpeg'\n",
    "Images2 = '/home/tairo/CODETHAYTIEN/XLA/ImageUseToTest/ProcessedImages/DogCat_increased.jpeg'"
   ]
  },
  {
   "cell_type": "code",
   "execution_count": 9,
   "metadata": {},
   "outputs": [],
   "source": [
    "# Initialize total pixels counter\n",
    "total_pixels1 = 0\n",
    "total_pixels2 = 0"
   ]
  },
  {
   "cell_type": "code",
   "execution_count": 10,
   "metadata": {},
   "outputs": [],
   "source": [
    "# Function to calculate pixels in an image\n",
    "def calculate_pixels(image_path):\n",
    "    img = cv2.imread(image_path)\n",
    "    height, width, _ = img.shape\n",
    "    return height * width"
   ]
  },
  {
   "cell_type": "code",
   "execution_count": 11,
   "metadata": {},
   "outputs": [],
   "source": [
    "# Calculate pixels for both images\n",
    "total_pixels1 += calculate_pixels(Images1)\n",
    "total_pixels2 += calculate_pixels(Images2)"
   ]
  },
  {
   "cell_type": "code",
   "execution_count": 12,
   "metadata": {},
   "outputs": [
    {
     "name": "stdout",
     "output_type": "stream",
     "text": [
      "Total pixels in the images: 256000\n",
      "Total pixels in the images: 4096000\n"
     ]
    }
   ],
   "source": [
    "print(f'Total pixels in the images: {total_pixels1}')\n",
    "print(f'Total pixels in the images: {total_pixels2}')"
   ]
  }
 ],
 "metadata": {
  "kernelspec": {
   "display_name": ".venv",
   "language": "python",
   "name": "python3"
  },
  "language_info": {
   "codemirror_mode": {
    "name": "ipython",
    "version": 3
   },
   "file_extension": ".py",
   "mimetype": "text/x-python",
   "name": "python",
   "nbconvert_exporter": "python",
   "pygments_lexer": "ipython3",
   "version": "3.11.10"
  }
 },
 "nbformat": 4,
 "nbformat_minor": 2
}
