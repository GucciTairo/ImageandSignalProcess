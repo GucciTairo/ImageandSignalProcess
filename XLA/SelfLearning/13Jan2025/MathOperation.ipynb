{
 "cells": [
  {
   "cell_type": "code",
   "execution_count": 7,
   "metadata": {},
   "outputs": [],
   "source": [
    "import numpy as np\n",
    "import matplotlib.pyplot as plt\n",
    "from collections import Counter"
   ]
  },
  {
   "cell_type": "code",
   "execution_count": 8,
   "metadata": {},
   "outputs": [],
   "source": [
    "#The matrix 4x3\n",
    "I = np.array([\n",
    "    [1, 2, 1],\n",
    "    [4, 4, 3],\n",
    "    [6, 9, 2],\n",
    "    [6, 2, 0],\n",
    "])\n",
    "#The matrix 3x2\n",
    "D = np.array([\n",
    "    [1, 2],\n",
    "    [4, 4],\n",
    "    [6, 9],\n",
    "])"
   ]
  },
  {
   "cell_type": "code",
   "execution_count": 9,
   "metadata": {},
   "outputs": [
    {
     "data": {
      "text/plain": [
       "array([[15, 19],\n",
       "       [38, 51],\n",
       "       [54, 66],\n",
       "       [14, 20]])"
      ]
     },
     "execution_count": 9,
     "metadata": {},
     "output_type": "execute_result"
    }
   ],
   "source": [
    "# Perform matrix multiplication (I * D)\n",
    "result = np.dot(I, D)\n",
    "result"
   ]
  }
 ],
 "metadata": {
  "kernelspec": {
   "display_name": ".venv",
   "language": "python",
   "name": "python3"
  },
  "language_info": {
   "codemirror_mode": {
    "name": "ipython",
    "version": 3
   },
   "file_extension": ".py",
   "mimetype": "text/x-python",
   "name": "python",
   "nbconvert_exporter": "python",
   "pygments_lexer": "ipython3",
   "version": "3.11.10"
  }
 },
 "nbformat": 4,
 "nbformat_minor": 2
}
