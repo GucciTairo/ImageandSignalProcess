{
 "cells": [
  {
   "cell_type": "code",
   "execution_count": 1,
   "metadata": {},
   "outputs": [],
   "source": [
    "from PIL import Image, ImageDraw"
   ]
  },
  {
   "cell_type": "code",
   "execution_count": 2,
   "metadata": {},
   "outputs": [],
   "source": [
    "def draw_sierpinski_triangle(draw, vertices, depth):\n",
    "    \"\"\"\n",
    "    Recursively draw a Sierpiński Triangle.\n",
    "    :param draw: ImageDraw object\n",
    "    :param vertices: Vertices of the triangle as a list of tuples [(x1, y1), (x2, y2), (x3, y3)]\n",
    "    :param depth: Current recursion depth\n",
    "    \"\"\"\n",
    "    if depth == 0:\n",
    "        # Draw the triangle\n",
    "        draw.polygon(vertices, fill=\"white\")\n",
    "    else:\n",
    "        # Calculate midpoints of the triangle's edges\n",
    "        mid1 = ((vertices[0][0] + vertices[1][0]) // 2, (vertices[0][1] + vertices[1][1]) // 2)\n",
    "        mid2 = ((vertices[1][0] + vertices[2][0]) // 2, (vertices[1][1] + vertices[2][1]) // 2)\n",
    "        mid3 = ((vertices[2][0] + vertices[0][0]) // 2, (vertices[2][1] + vertices[0][1]) // 2)\n",
    "\n",
    "        # Recursively draw smaller triangles\n",
    "        draw_sierpinski_triangle(draw, [vertices[0], mid1, mid3], depth - 1)\n",
    "        draw_sierpinski_triangle(draw, [mid1, vertices[1], mid2], depth - 1)\n",
    "        draw_sierpinski_triangle(draw, [mid3, mid2, vertices[2]], depth - 1)\n"
   ]
  },
  {
   "cell_type": "code",
   "execution_count": 3,
   "metadata": {},
   "outputs": [],
   "source": [
    "def create_fractal_image(filename, image_size=(800, 800), depth=5):\n",
    "    \"\"\"\n",
    "    Create a Sierpiński Triangle fractal image.\n",
    "    :param filename: Name of the output file\n",
    "    :param image_size: Size of the image (width, height)\n",
    "    :param depth: Depth of the fractal recursion\n",
    "    \"\"\"\n",
    "    # Create an image with a black background\n",
    "    img = Image.new(\"RGB\", image_size, \"black\")\n",
    "    draw = ImageDraw.Draw(img)\n",
    "\n",
    "    # Define vertices of the initial triangle\n",
    "    width, height = image_size\n",
    "    vertices = [(width // 2, 50), (50, height - 50), (width - 50, height - 50)]\n",
    "\n",
    "    # Draw the Sierpiński Triangle\n",
    "    draw_sierpinski_triangle(draw, vertices, depth)\n",
    "\n",
    "    # Save the fractal image\n",
    "    img.save(filename)\n",
    "    print(f\"Fractal image saved as {filename}\")\n"
   ]
  },
  {
   "cell_type": "code",
   "execution_count": 4,
   "metadata": {},
   "outputs": [
    {
     "name": "stdout",
     "output_type": "stream",
     "text": [
      "Fractal image saved as sierpinski_triangle.png\n"
     ]
    }
   ],
   "source": [
    "# Generate and save the Sierpiński Triangle fractal\n",
    "create_fractal_image(\"sierpinski_triangle.png\", depth=6)"
   ]
  }
 ],
 "metadata": {
  "kernelspec": {
   "display_name": ".venv",
   "language": "python",
   "name": "python3"
  },
  "language_info": {
   "codemirror_mode": {
    "name": "ipython",
    "version": 3
   },
   "file_extension": ".py",
   "mimetype": "text/x-python",
   "name": "python",
   "nbconvert_exporter": "python",
   "pygments_lexer": "ipython3",
   "version": "3.11.10"
  }
 },
 "nbformat": 4,
 "nbformat_minor": 2
}
