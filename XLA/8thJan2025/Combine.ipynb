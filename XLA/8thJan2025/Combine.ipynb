{
 "cells": [
  {
   "cell_type": "code",
   "execution_count": 54,
   "metadata": {},
   "outputs": [],
   "source": [
    "from PIL import Image, ImageDraw, ImageFont\n",
    "import numpy as np\n",
    "import os"
   ]
  },
  {
   "cell_type": "code",
   "execution_count": 55,
   "metadata": {},
   "outputs": [],
   "source": [
    "# Folder containing the 16 images\n",
    "image_folder = \"/home/tairo/ImagePreprocessExercise/ImageFolder\""
   ]
  },
  {
   "cell_type": "code",
   "execution_count": 56,
   "metadata": {},
   "outputs": [],
   "source": [
    "# Get a list of all image file paths\n",
    "image_files = [os.path.join(image_folder, f) for f in os.listdir(image_folder) if f.endswith(('.jpg'))]\n",
    "image_files.sort()  # Ensure consistent ordering if needed"
   ]
  },
  {
   "cell_type": "code",
   "execution_count": 57,
   "metadata": {},
   "outputs": [],
   "source": [
    "# Create a blank canvas for the 4x4 grid (896x896 pixels)\n",
    "grid_size = 4\n",
    "image_size = 224\n",
    "grid_image = Image.new(\"RGB\", (grid_size * image_size, grid_size * image_size))"
   ]
  },
  {
   "cell_type": "code",
   "execution_count": 58,
   "metadata": {},
   "outputs": [],
   "source": [
    "# Optional: Font for numbering\n",
    "try:\n",
    "    font = ImageFont.truetype(\"arial.ttf\", 20)  # Load a standard font\n",
    "except IOError:\n",
    "    font = ImageFont.load_default()  # Use default font if ttf is not available"
   ]
  },
  {
   "cell_type": "code",
   "execution_count": 52,
   "metadata": {},
   "outputs": [],
   "source": [
    "# Place each image onto the canvas and add numbering\n",
    "for idx, file in enumerate(image_files):\n",
    "    img = Image.open(file).resize((image_size, image_size))  # Ensure images are resized to 224x224\n",
    "    x_offset = (idx % grid_size) * image_size\n",
    "    y_offset = (idx // grid_size) * image_size\n",
    "    grid_image.paste(img, (x_offset, y_offset))\n",
    "    \n",
    "    # Draw the number on the image\n",
    "    draw = ImageDraw.Draw(grid_image)\n",
    "    number = str(idx + 1)  # Numbers start from 1\n",
    "    text_position = (x_offset + 10, y_offset + 10)  # Position in top-left corner of each image\n",
    "    draw.text(text_position, number, fill=\"white\", font=font)\n"
   ]
  },
  {
   "cell_type": "code",
   "execution_count": 53,
   "metadata": {},
   "outputs": [
    {
     "name": "stdout",
     "output_type": "stream",
     "text": [
      "Image saved to combined_grid_image.jpg\n"
     ]
    }
   ],
   "source": [
    "# Save the resulting image\n",
    "output_path = \"combined_grid_image.jpg\"\n",
    "grid_image.save(output_path)\n",
    "print(f\"Image saved to {output_path}\")"
   ]
  }
 ],
 "metadata": {
  "kernelspec": {
   "display_name": ".venv",
   "language": "python",
   "name": "python3"
  },
  "language_info": {
   "codemirror_mode": {
    "name": "ipython",
    "version": 3
   },
   "file_extension": ".py",
   "mimetype": "text/x-python",
   "name": "python",
   "nbconvert_exporter": "python",
   "pygments_lexer": "ipython3",
   "version": "3.11.10"
  }
 },
 "nbformat": 4,
 "nbformat_minor": 2
}
