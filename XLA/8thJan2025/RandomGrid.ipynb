{
 "cells": [
  {
   "cell_type": "code",
   "execution_count": null,
   "metadata": {},
   "outputs": [],
   "source": [
    "#Declare the libraries\n",
    "from PIL import Image\n",
    "import numpy as np\n",
    "import os\n",
    "import random"
   ]
  },
  {
   "cell_type": "code",
   "execution_count": null,
   "metadata": {},
   "outputs": [],
   "source": [
    "# Folder containing the 16 images\n",
    "image_folder = \"/home/tairo/CODETHAYTIEN/XLA/8thJan2025/ImageFolder\""
   ]
  },
  {
   "cell_type": "code",
   "execution_count": null,
   "metadata": {},
   "outputs": [],
   "source": [
    "# Get a list of all image file paths\n",
    "image_files = [os.path.join(image_folder, f) for f in os.listdir(image_folder) if f.endswith(('.png', '.jpg', '.jpeg'))]\n",
    "#image_files.sort()  # Ensure consistent ordering if needed"
   ]
  },
  {
   "cell_type": "code",
   "execution_count": null,
   "metadata": {},
   "outputs": [],
   "source": [
    "# Shuffle the image files randomly\n",
    "random.shuffle(image_files)"
   ]
  },
  {
   "cell_type": "code",
   "execution_count": null,
   "metadata": {},
   "outputs": [],
   "source": [
    "# Determine random dimensions (m x n) for the grid\n",
    "def random_grid_dimensions(total_images):\n",
    "    factors = [(i, total_images // i) for i in range(1, int(total_images**0.5) + 1) if total_images % i == 0]\n",
    "    return random.choice(factors)"
   ]
  },
  {
   "cell_type": "code",
   "execution_count": null,
   "metadata": {},
   "outputs": [],
   "source": [
    "# Get random dimensions (m x n)\n",
    "m, n = random_grid_dimensions(num_images)\n",
    "\n",
    "# Cell size for each image\n",
    "image_size = 224"
   ]
  },
  {
   "cell_type": "code",
   "execution_count": null,
   "metadata": {},
   "outputs": [],
   "source": [
    "grid_image = Image.new(\n",
    "    mode=\"RGB\",            # RGB color mode\n",
    "    size=(\n",
    "        n * image_size,  \n",
    "        m * image_size  \n",
    "    )\n",
    ") "
   ]
  }
 ],
 "metadata": {
  "kernelspec": {
   "display_name": ".venv",
   "language": "python",
   "name": "python3"
  },
  "language_info": {
   "name": "python",
   "version": "3.11.10"
  }
 },
 "nbformat": 4,
 "nbformat_minor": 2
}
