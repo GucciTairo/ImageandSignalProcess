{
 "cells": [
  {
   "cell_type": "code",
   "execution_count": 1,
   "metadata": {},
   "outputs": [],
   "source": [
    "from PIL import Image, ImageDraw\n",
    "import matplotlib.pyplot as plt"
   ]
  },
  {
   "cell_type": "code",
   "execution_count": 2,
   "metadata": {},
   "outputs": [],
   "source": [
    "def draw_switzerland_flag(filename):\n",
    "    # Define dimensions of the flag\n",
    "    flag_width = 2300  #define the width of the flag\n",
    "    flag_height = 1600 #define the height of the flag\n",
    "    cross_thickness = 120  # Thickness of the white cross\n",
    "\n",
    "    # Create a green background\n",
    "    flag = Image.new(\"RGB\", (flag_width, flag_height), \"green\")\n",
    "    draw = ImageDraw.Draw(flag)\n",
    "\n",
    "    # Calculate dimensions of the cross\n",
    "    #Position of the cross where\n",
    "    cross_arm_length = flag_height // 3\n",
    "    center_x = flag_width // 2\n",
    "    center_y = flag_height // 2\n",
    "    \n",
    "    #Scale up code\n",
    "    # Draw the vertical rectangle of the cross\n",
    "    vertical_rect = [\n",
    "        (center_x - cross_thickness * 1, center_y - cross_arm_length * 1),\n",
    "        (center_x + cross_thickness * 1, center_y + cross_arm_length * 1)\n",
    "    ]\n",
    "    draw.rectangle(vertical_rect, fill=\"white\")\n",
    "\n",
    "    # Draw the horizontal rectangle of the cross\n",
    "    horizontal_rect = [\n",
    "        (center_x - cross_arm_length * 1, center_y - cross_thickness * 1),\n",
    "        (center_x + cross_arm_length * 1, center_y + cross_thickness * 1)\n",
    "    ]\n",
    "    draw.rectangle(horizontal_rect, fill=\"white\")\n",
    "    \n",
    "    #Scale down code\n",
    "    # Draw the vertical rectangle of the cross\n",
    "    #vertical_rect = [\n",
    "    #    (center_x - cross_thickness // 4, center_y - cross_arm_length // 4),\n",
    "    #    (center_x + cross_thickness // 4, center_y + cross_arm_length // 4)\n",
    "    #]\n",
    "    #draw.rectangle(vertical_rect, fill=\"white\")\n",
    "\n",
    "    # Draw the horizontal rectangle of the cross\n",
    "    #horizontal_rect = [\n",
    "    #    (center_x - cross_arm_length // 4, center_y - cross_thickness // 4),\n",
    "    #    (center_x + cross_arm_length // 4, center_y + cross_thickness // 4)\n",
    "    #]\n",
    "    #draw.rectangle(horizontal_rect, fill=\"white\")\n",
    "\n",
    "    # Save the flag image\n",
    "    flag.save(filename)\n",
    "    print(f\"Switzerland flag saved as {filename}\")"
   ]
  },
  {
   "cell_type": "code",
   "execution_count": 3,
   "metadata": {},
   "outputs": [
    {
     "name": "stdout",
     "output_type": "stream",
     "text": [
      "Switzerland flag saved as switzerland_flag.png\n"
     ]
    }
   ],
   "source": [
    "# Call the function to draw and save the Switzerland flag\n",
    "draw_switzerland_flag(\"switzerland_flag.png\")"
   ]
  },
  {
   "cell_type": "code",
   "execution_count": 4,
   "metadata": {},
   "outputs": [
    {
     "data": {
      "image/png": "[encoded data removed]",
      "text/plain": [
       "<Figure size 640x480 with 1 Axes>"
      ]
     },
     "metadata": {},
     "output_type": "display_data"
    }
   ],
   "source": [
    "img = \"/home/tairo/CODETHAYTIEN/XLA/8thJan2025/switzerland_flag.png\" # Path to the image\n",
    "plt.imshow(plt.imread(img)) #combine imshow and imread to display the image -> faster write code\n",
    "plt.axis('off') # Hide axes\n",
    "plt.show()"
   ]
  }
 ],
 "metadata": {
  "kernelspec": {
   "display_name": ".venv",
   "language": "python",
   "name": "python3"
  },
  "language_info": {
   "codemirror_mode": {
    "name": "ipython",
    "version": 3
   },
   "file_extension": ".py",
   "mimetype": "text/x-python",
   "name": "python",
   "nbconvert_exporter": "python",
   "pygments_lexer": "ipython3",
   "version": "3.11.10"
  }
 },
 "nbformat": 4,
 "nbformat_minor": 2
}
