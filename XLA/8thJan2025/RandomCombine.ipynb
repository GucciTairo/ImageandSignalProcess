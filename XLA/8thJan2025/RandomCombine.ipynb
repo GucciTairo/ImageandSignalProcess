{
 "cells": [
  {
   "cell_type": "code",
   "execution_count": 25,
   "metadata": {},
   "outputs": [],
   "source": [
    "#Declare the libraries\n",
    "from PIL import Image\n",
    "import numpy as np\n",
    "import os\n",
    "import random"
   ]
  },
  {
   "cell_type": "code",
   "execution_count": 26,
   "metadata": {},
   "outputs": [],
   "source": [
    "# Folder containing the 16 images\n",
    "image_folder = \"/home/tairo/CODETHAYTIEN/XLA/8thJan2025/ImageFolder\""
   ]
  },
  {
   "cell_type": "code",
   "execution_count": 27,
   "metadata": {},
   "outputs": [],
   "source": [
    "# Get a list of all image file paths\n",
    "image_files = [os.path.join(image_folder, f) for f in os.listdir(image_folder) if f.endswith(('.png', '.jpg', '.jpeg'))]\n",
    "#image_files.sort()  # Ensure consistent ordering if needed"
   ]
  },
  {
   "cell_type": "code",
   "execution_count": 28,
   "metadata": {},
   "outputs": [],
   "source": [
    "# Shuffle the image files randomly\n",
    "random.shuffle(image_files)"
   ]
  },
  {
   "cell_type": "code",
   "execution_count": 29,
   "metadata": {},
   "outputs": [],
   "source": [
    "# Create a blank canvas for the 4x4 grid (896x896 pixels)\n",
    "grid_size = 4 #create a grid matrix with 4x4 \n",
    "image_size = 224 #Size of each images in each cells\n",
    "# Create blank canvas\n",
    "grid_image = Image.new(\n",
    "    mode=\"RGB\",            # RGB color mode\n",
    "    size=(\n",
    "        grid_size * image_size,  # Width: 4 * 224 = 896 pixels\n",
    "        grid_size * image_size   # Height: 4 * 224 = 896 pixels\n",
    "    )\n",
    ") "
   ]
  },
  {
   "cell_type": "code",
   "execution_count": 30,
   "metadata": {},
   "outputs": [],
   "source": [
    "# Place each image onto the canvas in random order\n",
    "for idx, file in enumerate(image_files):\n",
    "    #Load image from file to canvas\n",
    "    #For position image(0,0), image(224,0)\n",
    "    img = Image.open(file)\n",
    "    x_offset = (idx % grid_size) * image_size\n",
    "    y_offset = (idx // grid_size) * image_size\n",
    "    grid_image.paste(img, (x_offset, y_offset))"
   ]
  },
  {
   "cell_type": "code",
   "execution_count": 31,
   "metadata": {},
   "outputs": [
    {
     "name": "stdout",
     "output_type": "stream",
     "text": [
      "Randomized grid image saved to random_combined_grid_image.jpg\n"
     ]
    }
   ],
   "source": [
    "# Save the resulting image\n",
    "output_path = \"random_combined_grid_image.jpg\"\n",
    "grid_image.save(output_path)\n",
    "print(f\"Randomized grid image saved to {output_path}\")"
   ]
  }
 ],
 "metadata": {
  "kernelspec": {
   "display_name": ".venv",
   "language": "python",
   "name": "python3"
  },
  "language_info": {
   "codemirror_mode": {
    "name": "ipython",
    "version": 3
   },
   "file_extension": ".py",
   "mimetype": "text/x-python",
   "name": "python",
   "nbconvert_exporter": "python",
   "pygments_lexer": "ipython3",
   "version": "3.11.10"
  }
 },
 "nbformat": 4,
 "nbformat_minor": 2
}
